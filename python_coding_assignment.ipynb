{
 "cells": [
  {
   "cell_type": "markdown",
   "id": "996719f0-520c-4a6c-b13d-8c75ced6cc7a",
   "metadata": {},
   "source": [
    "# Fundamentals of Python Programming Assignment\n",
    "This notebook contains solutions for the Python coding assignment.  \n",
    "Each section includes the problem statement, code solution, and explanations where needed.\n"
   ]
  },
  {
   "cell_type": "markdown",
   "id": "701430f2-1fbe-41a5-88b1-4debdf5100a9",
   "metadata": {},
   "source": [
    "# Section 1: Python Operators and Control Structures\n"
   ]
  },
  {
   "cell_type": "markdown",
   "id": "47e31f36-c5b9-490f-ab2a-0c76751955fb",
   "metadata": {},
   "source": [
    "### Question 1:\n",
    "**Write a Python program to calculate the sum of all numbers in a list using a for loop.**\n",
    "### Explanation:\n",
    "This program calculates the sum of all numbers in a list using a `for` loop.  \n",
    "- It initializes `sum_numbers` to `0`.  \n",
    "- Iterates over the list, adding each number to `sum_numbers`.  \n",
    "- Finally, it prints the total sum.\n",
    "\n",
    "\n",
    "**Sample Input:**\n",
    "```python\n",
    "numbers = [1, 2, 3, 4, 5]\n"
   ]
  },
  {
   "cell_type": "code",
   "execution_count": 2,
   "id": "c5392502-f48a-4e9f-b7fe-80d57457bdf7",
   "metadata": {},
   "outputs": [
    {
     "name": "stdout",
     "output_type": "stream",
     "text": [
      "15\n"
     ]
    }
   ],
   "source": [
    "    numbers = [1, 2, 3, 4, 5]\n",
    "    sum_numbers = 0\n",
    "    for num in numbers:\n",
    "        sum_numbers += num\n",
    "    print(sum_numbers)\n"
   ]
  },
  {
   "cell_type": "markdown",
   "id": "20a84aa4-9c2a-4a18-8114-1a8cd814b900",
   "metadata": {},
   "source": [
    "### Question 2:\n",
    "**What is the output of the following code?**\n",
    "### Explanation:\n",
    "This program calculates `x` raised to the power of `y` using the exponentiation operator (`**`).  \n",
    "- `x ** y` means `x` is multiplied by itself `y` times.\n",
    "- Here, `5 ** 2` results in `25`.\n",
    "\n",
    "### Sample Input:\n",
    "```python\n",
    "x = 5\n",
    "y = 2\n"
   ]
  },
  {
   "cell_type": "code",
   "execution_count": 6,
   "id": "f3302ad5-7394-4411-b596-1845c6768e2a",
   "metadata": {},
   "outputs": [
    {
     "name": "stdout",
     "output_type": "stream",
     "text": [
      "25\n"
     ]
    }
   ],
   "source": [
    "x = 5\n",
    "y = 2\n",
    "print(x ** y) \n"
   ]
  },
  {
   "cell_type": "markdown",
   "id": "959c21eb-fd26-4fa5-8d83-af405ca4c264",
   "metadata": {},
   "source": [
    "### Question 3:\n",
    "**Write a Python program to check if a number is a palindrome using a while loop.**\n",
    "\n",
    "### Explanation:\n",
    "This program checks if a number is a palindrome.  \n",
    "- It extracts digits one by one and reverses the number.  \n",
    "- Finally, it compares the reversed number with the original number.\n",
    "- If they match, the number is a palindrome.\n",
    "\n",
    "**Sample Input:**\n",
    "```python\n",
    "num = 12321\n",
    "\n"
   ]
  },
  {
   "cell_type": "code",
   "execution_count": 6,
   "id": "c6ed8be0-44b1-4324-bed3-a7a680ef252c",
   "metadata": {},
   "outputs": [
    {
     "name": "stdout",
     "output_type": "stream",
     "text": [
      "True\n"
     ]
    }
   ],
   "source": [
    "num = 12321\n",
    "original_num = num\n",
    "reversed_num = 0\n",
    "\n",
    "while num > 0:\n",
    "    digit = num % 10\n",
    "    reversed_num = reversed_num * 10 + digit\n",
    "    num //= 10\n",
    "\n",
    "print(original_num == reversed_num)"
   ]
  },
  {
   "cell_type": "markdown",
   "id": "055cdf62-6144-4fe1-bd5e-9673983718b1",
   "metadata": {},
   "source": [
    "### Question 4:\n",
    "**What is the output of the following code?**\n",
    "### Explanation:\n",
    "This program demonstrates how to access elements of a list using negative indexing.  \n",
    "- `fruits[-1]` retrieves the last element of the list.\n",
    "- Here, the last element is `\"cherry\"`, so the output is `\"cherry\"`.\n",
    "    ``python\n",
    "fruits = ['apple', 'banana', 'cherry']\n",
    "print(fruits[-1])\n",
    "\n",
    "### Sample Input:\n",
    "```python\n",
    "fruits = [\"apple\", \"banana\", \"cherry\"]\n",
    "\n"
   ]
  },
  {
   "cell_type": "code",
   "execution_count": 9,
   "id": "3749196d-a25e-4c96-b7ce-67dd0304565f",
   "metadata": {},
   "outputs": [
    {
     "name": "stdout",
     "output_type": "stream",
     "text": [
      "cherry\n"
     ]
    }
   ],
   "source": [
    "fruits = ['apple', 'banana', 'cherry']\n",
    "print(fruits[-1]) \n"
   ]
  },
  {
   "cell_type": "markdown",
   "id": "be2b145e-35a3-4871-a40d-240727f8d28d",
   "metadata": {},
   "source": [
    "### Question 5:\n",
    "**Write a Python program to calculate the average of all numbers in a list using a for loop.**\n",
    "### Explanation:\n",
    "This program calculates the average of numbers in a list.  \n",
    "- The `sum()` function computes the total sum of the list.  \n",
    "- The length of the list is found using `len()`.  \n",
    "- The average is obtained by dividing the sum by the length.\n",
    "\n",
    "**Sample Input:**\n",
    "```python\n",
    "numbers = [1, 2, 3, 4, 5]\n"
   ]
  },
  {
   "cell_type": "code",
   "execution_count": 12,
   "id": "c676bf2a-7c1b-4686-9275-26b59fdfcc28",
   "metadata": {},
   "outputs": [
    {
     "name": "stdout",
     "output_type": "stream",
     "text": [
      "3.0\n"
     ]
    }
   ],
   "source": [
    "numbers = [1, 2, 3, 4, 5]\n",
    "sum_numbers = 0\n",
    "\n",
    "for num in numbers:\n",
    "    sum_numbers += num\n",
    "\n",
    "average = sum_numbers / len(numbers)\n",
    "print(average)  \n"
   ]
  },
  {
   "cell_type": "markdown",
   "id": "78d761eb-bd09-4421-b104-01383e280e0c",
   "metadata": {},
   "source": [
    "# Section 2: Lists and Dictionaries\n"
   ]
  },
  {
   "cell_type": "markdown",
   "id": "238cc27a-8b63-4156-8797-ceb197637b41",
   "metadata": {},
   "source": [
    "### Question 6:\n",
    "**Write a Python program to create a dictionary with student names as keys and their grades as values.**\n",
    "### Explanation:\n",
    "This program creates a dictionary where student names are keys and their grades are values.  \n",
    "- The `zip()` function pairs names and grades.  \n",
    "- The `dict()` function converts them into a dictionary.\n",
    "\n",
    "**Sample Input:**\n",
    "```python\n",
    "students = ['John', 'Alice', 'Bob']\n",
    "grades = [90, 85, 95]\n"
   ]
  },
  {
   "cell_type": "code",
   "execution_count": 16,
   "id": "30abc613-60ed-4498-9832-fc7eaee4ccd6",
   "metadata": {},
   "outputs": [
    {
     "name": "stdout",
     "output_type": "stream",
     "text": [
      "{'John': 90, 'Alice': 85, 'Bob': 95}\n"
     ]
    }
   ],
   "source": [
    "students = ['John', 'Alice', 'Bob']\n",
    "grades = [90, 85, 95]\n",
    "\n",
    "student_dict = dict(zip(students, grades))\n",
    "print(student_dict)\n"
   ]
  },
  {
   "cell_type": "markdown",
   "id": "6e92331b-3850-4b5f-a380-0cc9f5dd5d3b",
   "metadata": {},
   "source": [
    "### Question 7:\n",
    "**What is the output of the following code?**\n",
    "### Explanation:\n",
    "This program demonstrates list slicing.  \n",
    "- `numbers[1:3]` retrieves elements from index `1` to `2` (excluding index `3`).\n",
    "- The output is `[2, 3]`.\n",
    "\n",
    "**Sample Input**\n",
    "```python\n",
    "numbers = [1, 2, 3, 4, 5]\n",
    "```python\n",
    "numbers = [1, 2, 3, 4, 5]\n",
    "print(numbers[1:3])"
   ]
  },
  {
   "cell_type": "code",
   "execution_count": 19,
   "id": "f8f69636-b015-4cac-843a-9fdbef5b3d21",
   "metadata": {},
   "outputs": [
    {
     "name": "stdout",
     "output_type": "stream",
     "text": [
      "[2, 3]\n"
     ]
    }
   ],
   "source": [
    "numbers = [1, 2, 3, 4, 5]\n",
    "print(numbers[1:3])\n"
   ]
  },
  {
   "cell_type": "markdown",
   "id": "66523415-8de9-452e-8532-cdb2eb2cec73",
   "metadata": {},
   "source": [
    "### Question 8:\n",
    "**Write a Python program to sort a list of numbers in ascending order using the `sorted()` function.**\n",
    "### Explanation:\n",
    "This program sorts a list in ascending order using the `sorted()` function.  \n",
    "- `sorted(numbers)` returns a new sorted list without modifying the original list.\n",
    "\n",
    "**Sample Input**:\n",
    "```python\n",
    "numbers = [5, 1, 4, 2, 3]\n"
   ]
  },
  {
   "cell_type": "code",
   "execution_count": 22,
   "id": "d09e1641-57fd-40ac-90c2-ef90bd5d62c4",
   "metadata": {},
   "outputs": [
    {
     "name": "stdout",
     "output_type": "stream",
     "text": [
      "[2, 4, 5, 6, 9]\n"
     ]
    }
   ],
   "source": [
    "numbers = [4, 2, 9, 6, 5]\n",
    "sorted_numbers = sorted(numbers)\n",
    "print(sorted_numbers) \n"
   ]
  },
  {
   "cell_type": "markdown",
   "id": "b705a23b-48fb-4873-b82d-ede3aabf49ff",
   "metadata": {},
   "source": [
    "### Question 9:\n",
    "**What is the output of the following code?**\n",
    "### Explanation:\n",
    "This program accesses a value from a dictionary using the `.get()` method.  \n",
    "- `fruits.get('banana')` returns the value associated with the `\"banana\"` key.\n",
    "--\n",
    "**Sample Input**:\n",
    "```python\n",
    "fruits = {\"apple\": 5, \"banana\": 10, \"cherry\": 8}\n",
    "\n",
    "\n"
   ]
  },
  {
   "cell_type": "code",
   "execution_count": 25,
   "id": "f647c638-9761-42c1-abff-1d8ef3de6e69",
   "metadata": {},
   "outputs": [
    {
     "name": "stdout",
     "output_type": "stream",
     "text": [
      "10\n"
     ]
    }
   ],
   "source": [
    "fruits = {'apple': 5, 'banana': 10, 'cherry': 15}\n",
    "print(fruits.get('banana')) \n"
   ]
  },
  {
   "cell_type": "markdown",
   "id": "df97d2df-e1ce-4c7e-917e-9bd0ba3b6e33",
   "metadata": {},
   "source": [
    "### Question 10:\n",
    "**Write a Python program to create a list of squares of all numbers from 1 to 10 using a list comprehension.**\n",
    "### Explanation:\n",
    "This program creates a list of squares using list comprehension.  \n",
    "- The list comprehension `[x**2 for x in range(1, 11)]` generates squares of numbers from `1` to `10`.\n",
    "- The result is `[1, 4, 9, ..., 100]`.\n",
    "\n",
    "--\n",
    "**Sample Input**:\n",
    "```python\n",
    "numbers = range(1, 11)\n",
    "\n"
   ]
  },
  {
   "cell_type": "code",
   "execution_count": 32,
   "id": "f1d226bf-c482-4804-bc77-6f9ee47604d7",
   "metadata": {},
   "outputs": [
    {
     "name": "stdout",
     "output_type": "stream",
     "text": [
      "[1, 4, 9, 16, 25, 36, 49, 64, 81, 100]\n"
     ]
    }
   ],
   "source": [
    "squares = [x**2 for x in range(1, 11)]\n",
    "print(squares)  \n",
    "\n"
   ]
  },
  {
   "cell_type": "markdown",
   "id": "93df28b0-44c4-402c-98bb-e3c373710c3d",
   "metadata": {},
   "source": [
    "# Section 3: Advanced Topics\n"
   ]
  },
  {
   "cell_type": "markdown",
   "id": "9674cfaf-312d-43cc-bdd8-aedca4d050de",
   "metadata": {},
   "source": [
    "### Question 11:\n",
    "**Write a Python program to calculate the factorial of a number using recursion.**\n",
    "### Explanation:\n",
    "This program calculates the factorial of a number using recursion.  \n",
    "- If `n == 0`, it returns `1` (base case).  \n",
    "- Otherwise, it calls itself with `n-1`, multiplying the result.  \n",
    "- Example: `factorial(5) = 5 * factorial(4)`.\n",
    "\n",
    "--\n",
    "**Sample Input**:\n",
    "```python\n",
    "n = 5\n",
    "--\n",
    "**Sample output**:\n",
    "''120\n",
    "\n",
    "\n"
   ]
  },
  {
   "cell_type": "code",
   "execution_count": 39,
   "id": "57c305a8-b073-49ed-a4b7-6adb3cf94c9f",
   "metadata": {},
   "outputs": [
    {
     "name": "stdout",
     "output_type": "stream",
     "text": [
      "120\n"
     ]
    }
   ],
   "source": [
    "def factorial(n):\n",
    "    if n == 0:\n",
    "        return 1\n",
    "    return n * factorial(n - 1)\n",
    "\n",
    "num = 5\n",
    "print(factorial(num)) \n"
   ]
  },
  {
   "cell_type": "markdown",
   "id": "1620edde-9ee3-44f6-b385-6658a8d65545",
   "metadata": {},
   "source": [
    "### Question 12:\n",
    "**What is the output of the following code?**\n",
    "### Explanation:\n",
    "This program reverses a list using the `reversed()` function.  \n",
    "- `reversed(numbers)` returns an iterator.  \n",
    "- `list(reversed(numbers))` converts it into a list.\n",
    "- \n",
    "--\n",
    "**Sample Input**:\n",
    "```python\n",
    "numbers = [1, 2, 3, 4, 5]\n",
    "\n"
   ]
  },
  {
   "cell_type": "code",
   "execution_count": 28,
   "id": "874e3511-6be0-458c-9d5b-6575023c0ea3",
   "metadata": {},
   "outputs": [
    {
     "name": "stdout",
     "output_type": "stream",
     "text": [
      "[5, 4, 3, 2, 1]\n"
     ]
    }
   ],
   "source": [
    "numbers = [1, 2, 3, 4, 5]\n",
    "print(list(reversed(numbers)))  \n"
   ]
  },
  {
   "cell_type": "markdown",
   "id": "04801e21-2251-4d2c-9cdf-62bb7453ac18",
   "metadata": {},
   "source": [
    "### Question 13:\n",
    "**Write a Python program to create a generator that yields the Fibonacci sequence up to the nth term.**\n",
    "### Explanation:\n",
    "This program generates Fibonacci numbers using a generator.  \n",
    "- A generator function `fibonacci(n)` uses `yield` to return numbers one by one.  \n",
    "- This is memory-efficient compared to storing the entire sequence.\n",
    "\n",
    "**Sample Input:**\n",
    "```python\n",
    "n = 10\n"
   ]
  },
  {
   "cell_type": "code",
   "execution_count": 45,
   "id": "cca72975-8925-4dfd-94ba-cb32d4a1d756",
   "metadata": {},
   "outputs": [
    {
     "name": "stdout",
     "output_type": "stream",
     "text": [
      "[0, 1, 1, 2, 3, 5, 8, 13, 21, 34]\n"
     ]
    }
   ],
   "source": [
    "def fibonacci(n):\n",
    "    a, b = 0, 1\n",
    "    for _ in range(n):\n",
    "        yield a\n",
    "        a, b = b, a + b\n",
    "\n",
    "n = 10\n",
    "print(list(fibonacci(n)))  \n"
   ]
  },
  {
   "cell_type": "markdown",
   "id": "8d602823-50f5-46f8-ac47-97414dfba567",
   "metadata": {},
   "source": [
    "### Question 14:\n",
    "**What is the output of the following code?**\n",
    "### Explanation:\n",
    "This program prints the value of `π` using the `math` module.  \n",
    "- `math.pi` provides a high-precision value of `π`.\n",
    "- The output is `3.141592653589793`.\n",
    "--\n",
    "**Sample output**:\n",
    "  `3.141592653589793`"
   ]
  },
  {
   "cell_type": "code",
   "execution_count": 47,
   "id": "36fec2c4-ba20-421d-9273-fc6964aacec7",
   "metadata": {},
   "outputs": [
    {
     "name": "stdout",
     "output_type": "stream",
     "text": [
      "3.141592653589793\n"
     ]
    }
   ],
   "source": [
    "import math\n",
    "print(math.pi)  \n",
    "\n"
   ]
  },
  {
   "cell_type": "markdown",
   "id": "4571028c-f359-469d-97ee-3c4fd776a87b",
   "metadata": {},
   "source": [
    "### Question 15:\n",
    "**Write a Python program to print the inverted star pyramid of height 5.**\n",
    "### Explanation:\n",
    "This program prints an inverted pyramid pattern using loops.  \n",
    "- The outer loop controls the rows.  \n",
    "- The inner loop prints spaces and stars (`*`).  \n",
    "- The pattern decreases in size with each iteration.\n",
    "\n"
   ]
  },
  {
   "cell_type": "code",
   "execution_count": 35,
   "id": "ac190693-2872-40d7-9707-55133fa70efb",
   "metadata": {},
   "outputs": [
    {
     "name": "stdout",
     "output_type": "stream",
     "text": [
      "*********\n",
      " *******\n",
      "  *****\n",
      "   ***\n",
      "    *\n"
     ]
    }
   ],
   "source": [
    "height = 5\n",
    "for i in range(height, 0, -1):\n",
    "    print(' ' * (height - i) + '*' * (2 * i - 1))\n"
   ]
  }
 ],
 "metadata": {
  "kernelspec": {
   "display_name": "Python [conda env:base] *",
   "language": "python",
   "name": "conda-base-py"
  },
  "language_info": {
   "codemirror_mode": {
    "name": "ipython",
    "version": 3
   },
   "file_extension": ".py",
   "mimetype": "text/x-python",
   "name": "python",
   "nbconvert_exporter": "python",
   "pygments_lexer": "ipython3",
   "version": "3.12.7"
  }
 },
 "nbformat": 4,
 "nbformat_minor": 5
}
